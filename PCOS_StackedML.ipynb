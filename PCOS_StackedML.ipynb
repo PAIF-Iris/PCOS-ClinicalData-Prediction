{
  "nbformat": 4,
  "nbformat_minor": 0,
  "metadata": {
    "colab": {
      "provenance": []
    },
    "kernelspec": {
      "name": "python3",
      "display_name": "Python 3"
    },
    "language_info": {
      "name": "python"
    }
  },
  "cells": [
    {
      "cell_type": "code",
      "source": [
        "!pip install scikit-optimize"
      ],
      "metadata": {
        "colab": {
          "base_uri": "https://localhost:8080/"
        },
        "id": "y3_gEAHdRA1l",
        "outputId": "ef825c70-35a5-409f-fa8f-4847de81c6ef"
      },
      "execution_count": 65,
      "outputs": [
        {
          "output_type": "stream",
          "name": "stdout",
          "text": [
            "Requirement already satisfied: scikit-optimize in /usr/local/lib/python3.12/dist-packages (0.10.2)\n",
            "Requirement already satisfied: joblib>=0.11 in /usr/local/lib/python3.12/dist-packages (from scikit-optimize) (1.5.2)\n",
            "Requirement already satisfied: pyaml>=16.9 in /usr/local/lib/python3.12/dist-packages (from scikit-optimize) (25.7.0)\n",
            "Requirement already satisfied: numpy>=1.20.3 in /usr/local/lib/python3.12/dist-packages (from scikit-optimize) (2.0.2)\n",
            "Requirement already satisfied: scipy>=1.1.0 in /usr/local/lib/python3.12/dist-packages (from scikit-optimize) (1.16.2)\n",
            "Requirement already satisfied: scikit-learn>=1.0.0 in /usr/local/lib/python3.12/dist-packages (from scikit-optimize) (1.6.1)\n",
            "Requirement already satisfied: packaging>=21.3 in /usr/local/lib/python3.12/dist-packages (from scikit-optimize) (25.0)\n",
            "Requirement already satisfied: PyYAML in /usr/local/lib/python3.12/dist-packages (from pyaml>=16.9->scikit-optimize) (6.0.3)\n",
            "Requirement already satisfied: threadpoolctl>=3.1.0 in /usr/local/lib/python3.12/dist-packages (from scikit-learn>=1.0.0->scikit-optimize) (3.6.0)\n"
          ]
        }
      ]
    },
    {
      "cell_type": "code",
      "execution_count": 66,
      "metadata": {
        "id": "iNih0fd4JUxi"
      },
      "outputs": [],
      "source": [
        "import matplotlib.pyplot as plt\n",
        "import pandas as pd\n",
        "import seaborn as sns\n",
        "import numpy as np\n",
        "\n",
        "from sklearn.model_selection import train_test_split, cross_val_score, GridSearchCV\n",
        "from sklearn.preprocessing import LabelEncoder, StandardScaler\n",
        "from sklearn.ensemble import RandomForestClassifier, AdaBoostClassifier, StackingClassifier\n",
        "from sklearn.metrics import accuracy_score, precision_score, recall_score, f1_score, roc_auc_score, classification_report, confusion_matrix\n",
        "\n",
        "\n",
        "from google.colab import drive\n",
        "from google.colab import files\n",
        "\n",
        "from sklearn.impute import SimpleImputer\n",
        "from sklearn.feature_selection import RFE\n",
        "from sklearn.naive_bayes import GaussianNB\n",
        "from xgboost import XGBClassifier\n",
        "from imblearn.combine import SMOTEENN\n",
        "from skopt import BayesSearchCV"
      ]
    },
    {
      "cell_type": "markdown",
      "source": [
        "LINK TO DATASET - https://www.kaggle.com/datasets/prasoonkottarathil/polycystic-ovary-syndrome-pcos\n",
        "\n",
        "PCOS_data_without_infertility dataset was cleaned:\n",
        "- BMI, FSH/LH, and waist/hip ratio was recalculated\n",
        "- Replaced 1.99. --> 1.99 on column 'II    beta-HCG(mIU/mL)' row 125\n",
        "- Extra empty rows and columns were deleted to prevent NaN error"
      ],
      "metadata": {
        "id": "fnkeBu4OLFqU"
      }
    },
    {
      "cell_type": "code",
      "source": [
        "drive.mount('/content/drive/')"
      ],
      "metadata": {
        "id": "hwiVhQvHOJef",
        "colab": {
          "base_uri": "https://localhost:8080/"
        },
        "outputId": "c7dc2b1f-f8de-4fb5-ec9e-90d8b7e0258f"
      },
      "execution_count": 78,
      "outputs": [
        {
          "output_type": "stream",
          "name": "stdout",
          "text": [
            "Drive already mounted at /content/drive/; to attempt to forcibly remount, call drive.mount(\"/content/drive/\", force_remount=True).\n"
          ]
        }
      ]
    },
    {
      "cell_type": "code",
      "source": [
        "file_path=\"/content/drive/MyDrive/ML for Medicine/ML/with_missing_values1.csv\"\n",
        "\n",
        "df = pd.read_csv(file_path)"
      ],
      "metadata": {
        "id": "ALkLIa5PKemS"
      },
      "execution_count": 79,
      "outputs": []
    },
    {
      "cell_type": "code",
      "source": [
        "df.info()"
      ],
      "metadata": {
        "colab": {
          "base_uri": "https://localhost:8080/"
        },
        "id": "W1IXJ3kUQFho",
        "outputId": "76c33185-a445-4983-c286-be98757aff30"
      },
      "execution_count": 69,
      "outputs": [
        {
          "output_type": "stream",
          "name": "stdout",
          "text": [
            "<class 'pandas.core.frame.DataFrame'>\n",
            "RangeIndex: 541 entries, 0 to 540\n",
            "Data columns (total 44 columns):\n",
            " #   Column                  Non-Null Count  Dtype  \n",
            "---  ------                  --------------  -----  \n",
            " 0   Sl. No                  541 non-null    int64  \n",
            " 1   Patient File No.        541 non-null    int64  \n",
            " 2   PCOS (Y/N)              541 non-null    int64  \n",
            " 3    Age (yrs)              541 non-null    int64  \n",
            " 4   Weight (Kg)             541 non-null    float64\n",
            " 5   Height(Cm)              541 non-null    float64\n",
            " 6   BMI                     541 non-null    float64\n",
            " 7   Blood Group             541 non-null    int64  \n",
            " 8   Pulse rate(bpm)         541 non-null    int64  \n",
            " 9   RR (breaths/min)        541 non-null    int64  \n",
            " 10  Hb(g/dl)                541 non-null    float64\n",
            " 11  Cycle(R/I)              541 non-null    int64  \n",
            " 12  Cycle length(days)      541 non-null    int64  \n",
            " 13  Marraige Status (Yrs)   540 non-null    float64\n",
            " 14  Pregnant(Y/N)           541 non-null    int64  \n",
            " 15  No. of aborptions       541 non-null    int64  \n",
            " 16    I   beta-HCG(mIU/mL)  541 non-null    float64\n",
            " 17  II    beta-HCG(mIU/mL)  541 non-null    float64\n",
            " 18  FSH(mIU/mL)             541 non-null    float64\n",
            " 19  LH(mIU/mL)              541 non-null    float64\n",
            " 20  FSH/LH                  541 non-null    float64\n",
            " 21  Hip(inch)               541 non-null    int64  \n",
            " 22  Waist(inch)             541 non-null    int64  \n",
            " 23  Waist:Hip Ratio         541 non-null    float64\n",
            " 24  TSH (mIU/L)             541 non-null    float64\n",
            " 25  AMH(ng/mL)              540 non-null    float64\n",
            " 26  PRL(ng/mL)              541 non-null    float64\n",
            " 27  Vit D3 (ng/mL)          541 non-null    float64\n",
            " 28  PRG(ng/mL)              541 non-null    float64\n",
            " 29  RBS(mg/dl)              541 non-null    float64\n",
            " 30  Weight gain(Y/N)        541 non-null    int64  \n",
            " 31  hair growth(Y/N)        541 non-null    int64  \n",
            " 32  Skin darkening (Y/N)    541 non-null    int64  \n",
            " 33  Hair loss(Y/N)          541 non-null    int64  \n",
            " 34  Pimples(Y/N)            541 non-null    int64  \n",
            " 35  Fast food (Y/N)         540 non-null    float64\n",
            " 36  Reg.Exercise(Y/N)       541 non-null    int64  \n",
            " 37  BP _Systolic (mmHg)     541 non-null    int64  \n",
            " 38  BP _Diastolic (mmHg)    541 non-null    int64  \n",
            " 39  Follicle No. (L)        541 non-null    int64  \n",
            " 40  Follicle No. (R)        541 non-null    int64  \n",
            " 41  Avg. F size (L) (mm)    541 non-null    float64\n",
            " 42  Avg. F size (R) (mm)    541 non-null    float64\n",
            " 43  Endometrium (mm)        541 non-null    float64\n",
            "dtypes: float64(21), int64(23)\n",
            "memory usage: 186.1 KB\n"
          ]
        }
      ]
    },
    {
      "cell_type": "code",
      "source": [
        "#clean dataset\n",
        "df = df.drop(columns=['Sl. No', 'Patient File No.'])\n",
        "\n",
        "imputer = SimpleImputer(strategy='median')\n",
        "df[df.columns] = imputer.fit_transform(df)    #uses imputer to fill empty points with the median of that column\n",
        "\n",
        "#define predictor and target\n",
        "X = df.drop(columns=['PCOS (Y/N)'], errors='ignore')\n",
        "y = df['PCOS (Y/N)']\n",
        "\n",
        "#fix data imbalance\n",
        "X, y = SMOTEENN(random_state=42).fit_resample(X, y) #SMOTEENN uses KNN to create synthetic data for the minority class (PCOS = 1) and removes ambiguous data points (points whose majority neighbor is not its actual class).\n",
        "\n",
        "#selecting predictors\n",
        "base = RandomForestClassifier(n_estimators=100, random_state=42) #the base model is RFC, where decision trees are created with splitting random features, and RF is created through many DT buildt on randomly selected features and subset of data. The decrease in impurity (how mixed the classes are) for each splitting is credited to that feature, making it important.\n",
        "rfe = RFE(base, n_features_to_select=30) #this is the RFE model, which will recursively train the dataset using the base model, calculate the average of the importance for feature, and eliminate the least important until only 30 features are left.\n",
        "X_selected = rfe.fit_transform(X, y) #fitting the data and transforming X so it now only contains 30 selected predictors\n",
        "\n",
        "#splitting data\n",
        "X_train, X_test, y_train, y_test = train_test_split(X_selected, y, test_size=0.2, stratify=y, random_state=42)\n",
        "\n",
        "#define base models\n",
        "base_models = [\n",
        "    ('rf', RandomForestClassifier(random_state=42)),\n",
        "    ('nb', GaussianNB()),\n",
        "    ('xgb', XGBClassifier(eval_metric='logloss', random_state=42)),\n",
        "    ('ada', AdaBoostClassifier(random_state=42))\n",
        "]\n",
        "\n",
        "#define second level meta learner\n",
        "meta_learner = RandomForestClassifier(random_state=42) #learns how to best combine base models' predictions\n",
        "\n",
        "#define stacked model\n",
        "stacked_model = StackingClassifier(estimators=base_models, final_estimator=meta_learner, passthrough=False, cv=5) #this model combines base model predictions with meta-learner. with passthrough=False, the meta-learner only sees base model predictions and not the raw dataset\n",
        "\n",
        "#uses Baysian Optimization to optimize stacked model\n",
        "param_grid = {                                          #defines which hyperparameters to optimize and what ranges\n",
        "    'rf__n_estimators': (50, 200),\n",
        "    'rf__max_depth': (3, 15),\n",
        "    'final_estimator__n_estimators': (50, 200)\n",
        "}\n",
        "\n",
        "opt = BayesSearchCV(                             #this model is a smart way of searching for the best parameter combination. It choses a set of parameter, fits the stacked model, perform cv, compute accuracy, update probabilistic model, repeat.\n",
        "    estimator=stacked_model,\n",
        "    search_spaces=param_grid,\n",
        "    n_iter=10,                                          #number of parameter it tests\n",
        "    cv=3,\n",
        "    scoring='accuracy',\n",
        "    random_state=42,\n",
        "    verbose=0\n",
        ")\n",
        "\n",
        "opt.fit(X_train, y_train)        #this will trigger a cascade of model calling\n",
        "\n",
        "best_model = opt.best_estimator_\n",
        "best_params = opt.best_params_\n",
        "print(\"Best model:\", opt.best_estimator_)\n",
        "print(\"Best Parameters:\", best_params)\n",
        "\n",
        "#model evaluation\n",
        "y_pred = best_model.predict(X_test)   #making prediction using the best model with the best parameters\n",
        "\n",
        "acc = accuracy_score(y_test, y_pred)\n",
        "prec = precision_score(y_test, y_pred)\n",
        "rec = recall_score(y_test, y_pred)\n",
        "f1 = f1_score(y_test, y_pred)\n",
        "auc = roc_auc_score(y_test, y_pred)\n",
        "conf_matrix = confusion_matrix(y_test, y_pred)\n",
        "\n",
        "print(f\"\\nStacked ML (RFE + RF meta-learner) Performance:\")\n",
        "print(f\"Accuracy: {acc:.4f}\")\n",
        "print(f\"Precision: {prec:.4f}\")\n",
        "print(f\"Recall: {rec:.4f}\")\n",
        "print(f\"F1-score: {f1:.4f}\")\n",
        "print(f\"AUC: {auc:.4f}\")\n",
        "print(\"\\nDetailed Report:\\n\", classification_report(y_test, y_pred))\n",
        "print(f\"Confusion Matrix:\\n{conf_matrix}\")"
      ],
      "metadata": {
        "colab": {
          "base_uri": "https://localhost:8080/"
        },
        "id": "aV3GE6uTG0Cw",
        "outputId": "1f411d23-5053-4c2e-e441-d5def731cc01"
      },
      "execution_count": 70,
      "outputs": [
        {
          "output_type": "stream",
          "name": "stdout",
          "text": [
            "Best model: StackingClassifier(cv=5,\n",
            "                   estimators=[('rf',\n",
            "                                RandomForestClassifier(max_depth=14,\n",
            "                                                       n_estimators=96,\n",
            "                                                       random_state=42)),\n",
            "                               ('nb', GaussianNB()),\n",
            "                               ('xgb',\n",
            "                                XGBClassifier(base_score=None, booster=None,\n",
            "                                              callbacks=None,\n",
            "                                              colsample_bylevel=None,\n",
            "                                              colsample_bynode=None,\n",
            "                                              colsample_bytree=None,\n",
            "                                              device=None,\n",
            "                                              early_stopping_rounds=None,\n",
            "                                              enable_categorical=False,\n",
            "                                              eval_metric='logloss',...\n",
            "                                              max_cat_threshold=None,\n",
            "                                              max_cat_to_onehot=None,\n",
            "                                              max_delta_step=None,\n",
            "                                              max_depth=None, max_leaves=None,\n",
            "                                              min_child_weight=None,\n",
            "                                              missing=nan,\n",
            "                                              monotone_constraints=None,\n",
            "                                              multi_strategy=None,\n",
            "                                              n_estimators=None, n_jobs=None,\n",
            "                                              num_parallel_tree=None, ...)),\n",
            "                               ('ada', AdaBoostClassifier(random_state=42))],\n",
            "                   final_estimator=RandomForestClassifier(n_estimators=176,\n",
            "                                                          random_state=42))\n",
            "Best Parameters: OrderedDict({'final_estimator__n_estimators': 176, 'rf__max_depth': 14, 'rf__n_estimators': 96})\n",
            "\n",
            "Stacked ML (RFE + RF meta-learner) Performance:\n",
            "Accuracy: 0.9672\n",
            "Precision: 0.9744\n",
            "Recall: 0.9744\n",
            "F1-score: 0.9744\n",
            "AUC: 0.9645\n",
            "\n",
            "Detailed Report:\n",
            "               precision    recall  f1-score   support\n",
            "\n",
            "         0.0       0.95      0.95      0.95        22\n",
            "         1.0       0.97      0.97      0.97        39\n",
            "\n",
            "    accuracy                           0.97        61\n",
            "   macro avg       0.96      0.96      0.96        61\n",
            "weighted avg       0.97      0.97      0.97        61\n",
            "\n",
            "Confusion Matrix:\n",
            "[[21  1]\n",
            " [ 1 38]]\n"
          ]
        }
      ]
    }
  ]
}